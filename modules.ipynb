{
 "cells": [
  {
   "cell_type": "code",
   "execution_count": 14,
   "metadata": {},
   "outputs": [
    {
     "name": "stdout",
     "output_type": "stream",
     "text": [
      "15\n"
     ]
    }
   ],
   "source": [
    "import addition\n",
    "c=addition.sum(10,5)\n",
    "print(c)"
   ]
  },
  {
   "cell_type": "code",
   "execution_count": 15,
   "metadata": {},
   "outputs": [],
   "source": [
    "class amazonaccouny:\n",
    "    message='welcome to amazon'\n",
    "    __default_delivery=7\n",
    "    def __init__(self,name,mail):\n",
    "        self.name=name\n",
    "        self.__mail=mail\n",
    "        print(f'Hello {self.name}\\n{self.message}')\n",
    "        \n",
    "\n"
   ]
  },
  {
   "cell_type": "code",
   "execution_count": 16,
   "metadata": {},
   "outputs": [
    {
     "name": "stdout",
     "output_type": "stream",
     "text": [
      "Hello Arun\n",
      "welcome to amazon\n"
     ]
    }
   ],
   "source": [
    "arun=amazonaccouny(\"Arun\",'arun03122006@gmail.com')"
   ]
  },
  {
   "cell_type": "code",
   "execution_count": 17,
   "metadata": {},
   "outputs": [
    {
     "data": {
      "text/plain": [
       "'Arun'"
      ]
     },
     "execution_count": 17,
     "metadata": {},
     "output_type": "execute_result"
    }
   ],
   "source": [
    "arun.name"
   ]
  },
  {
   "cell_type": "code",
   "execution_count": 18,
   "metadata": {},
   "outputs": [
    {
     "ename": "AttributeError",
     "evalue": "'amazonaccouny' object has no attribute '__mail'",
     "output_type": "error",
     "traceback": [
      "\u001b[0;31m---------------------------------------------------------------------------\u001b[0m",
      "\u001b[0;31mAttributeError\u001b[0m                            Traceback (most recent call last)",
      "Cell \u001b[0;32mIn[18], line 1\u001b[0m\n\u001b[0;32m----> 1\u001b[0m \u001b[43marun\u001b[49m\u001b[38;5;241;43m.\u001b[39;49m\u001b[43m__mail\u001b[49m\n",
      "\u001b[0;31mAttributeError\u001b[0m: 'amazonaccouny' object has no attribute '__mail'"
     ]
    }
   ],
   "source": [
    "arun.__mail"
   ]
  },
  {
   "cell_type": "code",
   "execution_count": null,
   "metadata": {},
   "outputs": [],
   "source": [
    "class amazonaccount:\n",
    "    __default_delivery=7\n",
    "    welcomemessage=\"welcome to amazon account\"\n",
    "    def __init__(self,name,mobile,email):\n",
    "        self.name =name   \n",
    "        self.mobile=mobile\n",
    "        self.email=email\n",
    "    def shopping(self,item):\n",
    "        print(f'\"{self.name} bought {item}')\n",
    "    def delivery(self):\n",
    "        print(f'your order will be recieved in {self.__default_delivery}')\n",
    "        print(f'{self.name} account deactivate sucessfully')\n",
    "\n",
    "        "
   ]
  },
  {
   "cell_type": "code",
   "execution_count": null,
   "metadata": {},
   "outputs": [],
   "source": [
    "def __deactivate_account(self):\n",
    "        print(f'{self.name} account deactivate sucessfully')\n",
    "\n",
    "        "
   ]
  },
  {
   "cell_type": "code",
   "execution_count": null,
   "metadata": {},
   "outputs": [],
   "source": [
    "arun=amazonaccount('arun',9159782695,'arun03122006@gmail.com')\n"
   ]
  },
  {
   "cell_type": "code",
   "execution_count": 26,
   "metadata": {},
   "outputs": [
    {
     "name": "stdout",
     "output_type": "stream",
     "text": [
      "\"arun bought iphone\n"
     ]
    }
   ],
   "source": [
    "arun.shopping('iphone')"
   ]
  },
  {
   "cell_type": "code",
   "execution_count": null,
   "metadata": {},
   "outputs": [],
   "source": []
  },
  {
   "cell_type": "code",
   "execution_count": null,
   "metadata": {},
   "outputs": [],
   "source": []
  }
 ],
 "metadata": {
  "kernelspec": {
   "display_name": ".venv",
   "language": "python",
   "name": "python3"
  },
  "language_info": {
   "codemirror_mode": {
    "name": "ipython",
    "version": 3
   },
   "file_extension": ".py",
   "mimetype": "text/x-python",
   "name": "python",
   "nbconvert_exporter": "python",
   "pygments_lexer": "ipython3",
   "version": "3.11.6"
  }
 },
 "nbformat": 4,
 "nbformat_minor": 2
}
