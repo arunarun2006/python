{
 "cells": [
  {
   "cell_type": "code",
   "execution_count": 11,
   "metadata": {},
   "outputs": [],
   "source": [
    "class standard_account:\n",
    "\n",
    "    __defaultdelivery =7\n",
    "\n",
    "    welcomemessage='welcome to amazon Account'\n",
    "\n",
    "    def __init__(self,name,mobile,email):\n",
    "        self.name=name\n",
    "        self.mobile=mobile\n",
    "        self.email=email\n",
    "        print(self.welcomemessage)\n",
    "\n",
    "    def shopping(self,item):\n",
    "        print(f'{self.name} bought {item}')\n",
    "   \n",
    "    def delivery(self):\n",
    "        print(f'yout order will br delivered in {self.__defaultdelivery}')\n",
    "\n",
    "    def deactivateaccount(self):\n",
    "        print(f'{self.name}account deactivate succesfulllyy')\n",
    "\n"
   ]
  },
  {
   "cell_type": "code",
   "execution_count": 12,
   "metadata": {},
   "outputs": [],
   "source": [
    "class premium_account(standard_account):\n",
    "    welcomemessage='welcome to Aatomz prime account'\n",
    "    def delivery(self):\n",
    "        premiumdelivery=1\n",
    "        print(f'''your order will be \n",
    "            deliveried in   \"{premiumdelivery} days''')\n",
    "    def prime_video(self):\n",
    "        print('prime video membership Enabled')\n",
    "    def cancel_membership(self):\n",
    "        print(f'{self.name}  successfully cancelled the membership')        "
   ]
  },
  {
   "cell_type": "code",
   "execution_count": 13,
   "metadata": {},
   "outputs": [
    {
     "name": "stdout",
     "output_type": "stream",
     "text": [
      "welcome to amazon Account\n"
     ]
    },
    {
     "data": {
      "text/plain": [
       "'arun'"
      ]
     },
     "execution_count": 13,
     "metadata": {},
     "output_type": "execute_result"
    }
   ],
   "source": [
    "myaccount=standard_account('arun',9159782695,'arun@gmail.com')\n",
    "myaccount.name"
   ]
  },
  {
   "cell_type": "code",
   "execution_count": 14,
   "metadata": {},
   "outputs": [
    {
     "name": "stdout",
     "output_type": "stream",
     "text": [
      "yout order will br delivered in 7\n",
      "arun bought iphone\n",
      "arunaccount deactivate succesfulllyy\n"
     ]
    }
   ],
   "source": [
    "myaccount.delivery()\n",
    "myaccount.shopping('iphone')\n",
    "myaccount.deactivateaccount()\n"
   ]
  },
  {
   "cell_type": "code",
   "execution_count": 20,
   "metadata": {},
   "outputs": [
    {
     "name": "stdout",
     "output_type": "stream",
     "text": [
      "welcome to Aatomz prime account\n"
     ]
    },
    {
     "data": {
      "text/plain": [
       "'arun'"
      ]
     },
     "execution_count": 20,
     "metadata": {},
     "output_type": "execute_result"
    }
   ],
   "source": [
    "mypremiumaccount=premium_account('arun','9159782695','arun@gmail.com')\n",
    "mypremiumaccount.name"
   ]
  },
  {
   "cell_type": "code",
   "execution_count": 16,
   "metadata": {},
   "outputs": [
    {
     "name": "stdout",
     "output_type": "stream",
     "text": [
      "your order will be \n",
      "            deliveried in   \"1 days\n"
     ]
    }
   ],
   "source": [
    "mypremiumaccount.delivery()"
   ]
  },
  {
   "cell_type": "code",
   "execution_count": 17,
   "metadata": {},
   "outputs": [
    {
     "name": "stdout",
     "output_type": "stream",
     "text": [
      "arun bought iphone\n"
     ]
    }
   ],
   "source": [
    "mypremiumaccount.shopping('iphone')"
   ]
  },
  {
   "cell_type": "code",
   "execution_count": 18,
   "metadata": {},
   "outputs": [
    {
     "name": "stdout",
     "output_type": "stream",
     "text": [
      "prime video membership Enabled\n"
     ]
    }
   ],
   "source": [
    "mypremiumaccount.prime_video()"
   ]
  },
  {
   "cell_type": "code",
   "execution_count": 19,
   "metadata": {},
   "outputs": [
    {
     "name": "stdout",
     "output_type": "stream",
     "text": [
      "arun  successfully cancelled the membership\n"
     ]
    }
   ],
   "source": [
    "mypremiumaccount.cancel_membership()"
   ]
  },
  {
   "cell_type": "code",
   "execution_count": null,
   "metadata": {},
   "outputs": [],
   "source": []
  }
 ],
 "metadata": {
  "kernelspec": {
   "display_name": ".venv",
   "language": "python",
   "name": "python3"
  },
  "language_info": {
   "codemirror_mode": {
    "name": "ipython",
    "version": 3
   },
   "file_extension": ".py",
   "mimetype": "text/x-python",
   "name": "python",
   "nbconvert_exporter": "python",
   "pygments_lexer": "ipython3",
   "version": "3.11.6"
  }
 },
 "nbformat": 4,
 "nbformat_minor": 2
}
